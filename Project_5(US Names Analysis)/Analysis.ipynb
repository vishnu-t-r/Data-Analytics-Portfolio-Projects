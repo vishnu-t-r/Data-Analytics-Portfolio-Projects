{
 "cells": [
  {
   "cell_type": "markdown",
   "id": "633bda0f-608f-4c20-b1f5-a6fe65ac7277",
   "metadata": {
    "tags": []
   },
   "source": [
    "## Analyzing Most Common Names for Kids in America"
   ]
  },
  {
   "cell_type": "code",
   "execution_count": 1,
   "id": "3192d55f-9299-4bd4-a99a-3116e2084941",
   "metadata": {
    "tags": []
   },
   "outputs": [],
   "source": [
    "# import modules\n",
    "import pandas as pd\n",
    "import sqlite3 as sql"
   ]
  },
  {
   "cell_type": "markdown",
   "id": "3e7792e0-de31-4274-838a-c91750d1a05b",
   "metadata": {},
   "source": [
    "### Connecting to sql database"
   ]
  },
  {
   "cell_type": "code",
   "execution_count": 2,
   "id": "b5237325-de8e-4b52-b413-dd6b647f0793",
   "metadata": {
    "tags": []
   },
   "outputs": [],
   "source": [
    "# connecting to database\n",
    "# new babynames_db will be created if not already present\n",
    "db_connection = sql.connect('babynames_db.db')"
   ]
  },
  {
   "cell_type": "code",
   "execution_count": 3,
   "id": "84bea95a-97a2-4501-8276-f810c81f2b42",
   "metadata": {
    "tags": []
   },
   "outputs": [],
   "source": [
    "# creating a cursor on the db connection using cursor method\n",
    "execute_sql = db_connection.cursor()"
   ]
  },
  {
   "cell_type": "markdown",
   "id": "d01ba131-4b08-4a28-9a95-e2dc2d5fc6a6",
   "metadata": {},
   "source": [
    "### Importing the table as a dataframe"
   ]
  },
  {
   "cell_type": "code",
   "execution_count": 4,
   "id": "55153a96-52a0-46ad-aea3-5811b1d4d22a",
   "metadata": {
    "tags": []
   },
   "outputs": [
    {
     "data": {
      "text/html": [
       "<div>\n",
       "<style scoped>\n",
       "    .dataframe tbody tr th:only-of-type {\n",
       "        vertical-align: middle;\n",
       "    }\n",
       "\n",
       "    .dataframe tbody tr th {\n",
       "        vertical-align: top;\n",
       "    }\n",
       "\n",
       "    .dataframe thead th {\n",
       "        text-align: right;\n",
       "    }\n",
       "</style>\n",
       "<table border=\"1\" class=\"dataframe\">\n",
       "  <thead>\n",
       "    <tr style=\"text-align: right;\">\n",
       "      <th></th>\n",
       "      <th>Id</th>\n",
       "      <th>Name</th>\n",
       "      <th>Year</th>\n",
       "      <th>Gender</th>\n",
       "      <th>Count</th>\n",
       "    </tr>\n",
       "  </thead>\n",
       "  <tbody>\n",
       "    <tr>\n",
       "      <th>0</th>\n",
       "      <td>1</td>\n",
       "      <td>Mary</td>\n",
       "      <td>1880</td>\n",
       "      <td>F</td>\n",
       "      <td>7065</td>\n",
       "    </tr>\n",
       "    <tr>\n",
       "      <th>1</th>\n",
       "      <td>2</td>\n",
       "      <td>Anna</td>\n",
       "      <td>1880</td>\n",
       "      <td>F</td>\n",
       "      <td>2604</td>\n",
       "    </tr>\n",
       "  </tbody>\n",
       "</table>\n",
       "</div>"
      ],
      "text/plain": [
       "   Id  Name  Year Gender  Count\n",
       "0   1  Mary  1880      F   7065\n",
       "1   2  Anna  1880      F   2604"
      ]
     },
     "execution_count": 4,
     "metadata": {},
     "output_type": "execute_result"
    }
   ],
   "source": [
    "#import the table as a dataframe\n",
    "names = pd.read_csv(\"C:\\\\Users\\\\91740\\\\Desktop\\\\SQL\\\\Exploratory Data Analysis with SQL\\\\US BabyNames Analysis\\\\NationalNames.csv\")\n",
    "names.head(2)"
   ]
  },
  {
   "cell_type": "markdown",
   "id": "1ff3800a-40d4-426f-acac-e331d17a99c5",
   "metadata": {},
   "source": [
    "### Insert the table in sql database"
   ]
  },
  {
   "cell_type": "code",
   "execution_count": 5,
   "id": "54822bc8-630a-4fe2-b624-da4a2fb659df",
   "metadata": {
    "tags": []
   },
   "outputs": [
    {
     "data": {
      "text/plain": [
       "1825433"
      ]
     },
     "execution_count": 5,
     "metadata": {},
     "output_type": "execute_result"
    }
   ],
   "source": [
    "# writng the dataframe into sql database\n",
    "# using pandas.DataFrame.to_sql method\n",
    "# help(names.to_sql)\n",
    "names.to_sql('baby_names',\n",
    "             con = db_connection,\n",
    "             if_exists = 'replace')"
   ]
  },
  {
   "cell_type": "markdown",
   "id": "874387a4-98da-4f8d-a705-3538104e173d",
   "metadata": {},
   "source": [
    "### Table schema - pd.read_sql method"
   ]
  },
  {
   "cell_type": "code",
   "execution_count": 6,
   "id": "ab6e61e2-ac2c-404d-a2c5-988e23a337fe",
   "metadata": {
    "tags": []
   },
   "outputs": [
    {
     "data": {
      "text/html": [
       "<div>\n",
       "<style scoped>\n",
       "    .dataframe tbody tr th:only-of-type {\n",
       "        vertical-align: middle;\n",
       "    }\n",
       "\n",
       "    .dataframe tbody tr th {\n",
       "        vertical-align: top;\n",
       "    }\n",
       "\n",
       "    .dataframe thead th {\n",
       "        text-align: right;\n",
       "    }\n",
       "</style>\n",
       "<table border=\"1\" class=\"dataframe\">\n",
       "  <thead>\n",
       "    <tr style=\"text-align: right;\">\n",
       "      <th></th>\n",
       "      <th>index</th>\n",
       "      <th>Id</th>\n",
       "      <th>Name</th>\n",
       "      <th>Year</th>\n",
       "      <th>Gender</th>\n",
       "      <th>Count</th>\n",
       "    </tr>\n",
       "  </thead>\n",
       "  <tbody>\n",
       "    <tr>\n",
       "      <th>0</th>\n",
       "      <td>0</td>\n",
       "      <td>1</td>\n",
       "      <td>Mary</td>\n",
       "      <td>1880</td>\n",
       "      <td>F</td>\n",
       "      <td>7065</td>\n",
       "    </tr>\n",
       "    <tr>\n",
       "      <th>1</th>\n",
       "      <td>1</td>\n",
       "      <td>2</td>\n",
       "      <td>Anna</td>\n",
       "      <td>1880</td>\n",
       "      <td>F</td>\n",
       "      <td>2604</td>\n",
       "    </tr>\n",
       "    <tr>\n",
       "      <th>2</th>\n",
       "      <td>2</td>\n",
       "      <td>3</td>\n",
       "      <td>Emma</td>\n",
       "      <td>1880</td>\n",
       "      <td>F</td>\n",
       "      <td>2003</td>\n",
       "    </tr>\n",
       "    <tr>\n",
       "      <th>3</th>\n",
       "      <td>3</td>\n",
       "      <td>4</td>\n",
       "      <td>Elizabeth</td>\n",
       "      <td>1880</td>\n",
       "      <td>F</td>\n",
       "      <td>1939</td>\n",
       "    </tr>\n",
       "    <tr>\n",
       "      <th>4</th>\n",
       "      <td>4</td>\n",
       "      <td>5</td>\n",
       "      <td>Minnie</td>\n",
       "      <td>1880</td>\n",
       "      <td>F</td>\n",
       "      <td>1746</td>\n",
       "    </tr>\n",
       "  </tbody>\n",
       "</table>\n",
       "</div>"
      ],
      "text/plain": [
       "   index  Id       Name  Year Gender  Count\n",
       "0      0   1       Mary  1880      F   7065\n",
       "1      1   2       Anna  1880      F   2604\n",
       "2      2   3       Emma  1880      F   2003\n",
       "3      3   4  Elizabeth  1880      F   1939\n",
       "4      4   5     Minnie  1880      F   1746"
      ]
     },
     "execution_count": 6,
     "metadata": {},
     "output_type": "execute_result"
    }
   ],
   "source": [
    "# execute sql on the table using pandas.read_sql method\n",
    "# query top 5 from the table\n",
    "# sql and con are mandetory arguments\n",
    "# for sql lite instead of top 5 use limit 5\n",
    "top_five = pd.read_sql(sql = \"\"\"\n",
    "                            SELECT *\n",
    "                            FROM baby_names\n",
    "                            LIMIT 5;\n",
    "                            \"\"\",\n",
    "                       con = db_connection)\n",
    "top_five"
   ]
  },
  {
   "cell_type": "markdown",
   "id": "3c9135a1-d0e7-4092-9e6e-5f1f29e309ea",
   "metadata": {},
   "source": [
    "### Question 1"
   ]
  },
  {
   "cell_type": "markdown",
   "id": "1e8e75de-8486-4aca-8601-68f44ccf18ea",
   "metadata": {},
   "source": [
    "#### Most popular names of all time?"
   ]
  },
  {
   "cell_type": "code",
   "execution_count": 7,
   "id": "e4ac4e40-fe88-4f5d-a1c5-1b008cfb55c5",
   "metadata": {
    "tags": []
   },
   "outputs": [
    {
     "data": {
      "text/html": [
       "<div>\n",
       "<style scoped>\n",
       "    .dataframe tbody tr th:only-of-type {\n",
       "        vertical-align: middle;\n",
       "    }\n",
       "\n",
       "    .dataframe tbody tr th {\n",
       "        vertical-align: top;\n",
       "    }\n",
       "\n",
       "    .dataframe thead th {\n",
       "        text-align: right;\n",
       "    }\n",
       "</style>\n",
       "<table border=\"1\" class=\"dataframe\">\n",
       "  <thead>\n",
       "    <tr style=\"text-align: right;\">\n",
       "      <th></th>\n",
       "      <th>Name</th>\n",
       "      <th>Names_Frequency</th>\n",
       "    </tr>\n",
       "  </thead>\n",
       "  <tbody>\n",
       "    <tr>\n",
       "      <th>0</th>\n",
       "      <td>James</td>\n",
       "      <td>5129096</td>\n",
       "    </tr>\n",
       "    <tr>\n",
       "      <th>1</th>\n",
       "      <td>John</td>\n",
       "      <td>5106590</td>\n",
       "    </tr>\n",
       "    <tr>\n",
       "      <th>2</th>\n",
       "      <td>Robert</td>\n",
       "      <td>4816785</td>\n",
       "    </tr>\n",
       "    <tr>\n",
       "      <th>3</th>\n",
       "      <td>Michael</td>\n",
       "      <td>4330805</td>\n",
       "    </tr>\n",
       "    <tr>\n",
       "      <th>4</th>\n",
       "      <td>Mary</td>\n",
       "      <td>4130441</td>\n",
       "    </tr>\n",
       "    <tr>\n",
       "      <th>...</th>\n",
       "      <td>...</td>\n",
       "      <td>...</td>\n",
       "    </tr>\n",
       "    <tr>\n",
       "      <th>93884</th>\n",
       "      <td>Aadrit</td>\n",
       "      <td>5</td>\n",
       "    </tr>\n",
       "    <tr>\n",
       "      <th>93885</th>\n",
       "      <td>Aadrian</td>\n",
       "      <td>5</td>\n",
       "    </tr>\n",
       "    <tr>\n",
       "      <th>93886</th>\n",
       "      <td>Aadian</td>\n",
       "      <td>5</td>\n",
       "    </tr>\n",
       "    <tr>\n",
       "      <th>93887</th>\n",
       "      <td>Aadhyan</td>\n",
       "      <td>5</td>\n",
       "    </tr>\n",
       "    <tr>\n",
       "      <th>93888</th>\n",
       "      <td>Aabid</td>\n",
       "      <td>5</td>\n",
       "    </tr>\n",
       "  </tbody>\n",
       "</table>\n",
       "<p>93889 rows × 2 columns</p>\n",
       "</div>"
      ],
      "text/plain": [
       "          Name  Names_Frequency\n",
       "0        James          5129096\n",
       "1         John          5106590\n",
       "2       Robert          4816785\n",
       "3      Michael          4330805\n",
       "4         Mary          4130441\n",
       "...        ...              ...\n",
       "93884   Aadrit                5\n",
       "93885  Aadrian                5\n",
       "93886   Aadian                5\n",
       "93887  Aadhyan                5\n",
       "93888    Aabid                5\n",
       "\n",
       "[93889 rows x 2 columns]"
      ]
     },
     "execution_count": 7,
     "metadata": {},
     "output_type": "execute_result"
    }
   ],
   "source": [
    "# most popular names in all time?\n",
    "# identify distinct names and there count ?\n",
    "distinct_names = pd.read_sql(sql = \"\"\" SELECT DISTINCT Name,\n",
    "                                        SUM(Count) AS Names_Frequency\n",
    "                                        FROM baby_names\n",
    "                                        GROUP BY Name\n",
    "                                        ORDER BY Names_Frequency DESC\n",
    "                                        \"\"\",\n",
    "                             con = db_connection)\n",
    "distinct_names"
   ]
  },
  {
   "cell_type": "markdown",
   "id": "a90a574b-ce06-4cab-89b6-df4684c839a4",
   "metadata": {},
   "source": [
    "#### Export Result as csv"
   ]
  },
  {
   "cell_type": "code",
   "execution_count": 9,
   "id": "9c23cf57-eb50-4370-929c-9ceadba12295",
   "metadata": {
    "tags": []
   },
   "outputs": [],
   "source": [
    "# help(names.to_csv)\n",
    "# type(distinct_names)\n",
    "# export the distinct_names dataframe into a cvs file\n",
    "distinct_names.to_csv('C:\\\\Users\\\\91740\\\\Desktop\\\\SQL\\\\Exploratory Data Analysis with SQL\\\\US BabyNames Analysis\\\\result_distinct_names.csv',\n",
    "                      index = True,\n",
    "                     index_label = 'S.no')"
   ]
  },
  {
   "cell_type": "markdown",
   "id": "450cad04-b0f3-4c70-a80a-17a218d1d9f0",
   "metadata": {},
   "source": [
    "### Question 2"
   ]
  },
  {
   "cell_type": "markdown",
   "id": "e5e10ed2-c585-46d3-8e75-db8fd957fa7d",
   "metadata": {},
   "source": [
    "#### Most popular male and female names?"
   ]
  },
  {
   "cell_type": "code",
   "execution_count": 10,
   "id": "747d0355-b19b-423c-8753-60c32045f3b6",
   "metadata": {
    "tags": []
   },
   "outputs": [
    {
     "data": {
      "text/html": [
       "<div>\n",
       "<style scoped>\n",
       "    .dataframe tbody tr th:only-of-type {\n",
       "        vertical-align: middle;\n",
       "    }\n",
       "\n",
       "    .dataframe tbody tr th {\n",
       "        vertical-align: top;\n",
       "    }\n",
       "\n",
       "    .dataframe thead th {\n",
       "        text-align: right;\n",
       "    }\n",
       "</style>\n",
       "<table border=\"1\" class=\"dataframe\">\n",
       "  <thead>\n",
       "    <tr style=\"text-align: right;\">\n",
       "      <th></th>\n",
       "      <th>Name</th>\n",
       "      <th>Gender</th>\n",
       "      <th>F_Frequency</th>\n",
       "      <th>M_Frequency</th>\n",
       "    </tr>\n",
       "  </thead>\n",
       "  <tbody>\n",
       "    <tr>\n",
       "      <th>0</th>\n",
       "      <td>James</td>\n",
       "      <td>M</td>\n",
       "      <td>0</td>\n",
       "      <td>5105919</td>\n",
       "    </tr>\n",
       "    <tr>\n",
       "      <th>1</th>\n",
       "      <td>John</td>\n",
       "      <td>M</td>\n",
       "      <td>0</td>\n",
       "      <td>5084943</td>\n",
       "    </tr>\n",
       "    <tr>\n",
       "      <th>2</th>\n",
       "      <td>Robert</td>\n",
       "      <td>M</td>\n",
       "      <td>0</td>\n",
       "      <td>4796695</td>\n",
       "    </tr>\n",
       "    <tr>\n",
       "      <th>3</th>\n",
       "      <td>Michael</td>\n",
       "      <td>M</td>\n",
       "      <td>0</td>\n",
       "      <td>4309198</td>\n",
       "    </tr>\n",
       "    <tr>\n",
       "      <th>4</th>\n",
       "      <td>Mary</td>\n",
       "      <td>F</td>\n",
       "      <td>4115282</td>\n",
       "      <td>0</td>\n",
       "    </tr>\n",
       "    <tr>\n",
       "      <th>...</th>\n",
       "      <td>...</td>\n",
       "      <td>...</td>\n",
       "      <td>...</td>\n",
       "      <td>...</td>\n",
       "    </tr>\n",
       "    <tr>\n",
       "      <th>104105</th>\n",
       "      <td>Zysean</td>\n",
       "      <td>M</td>\n",
       "      <td>0</td>\n",
       "      <td>5</td>\n",
       "    </tr>\n",
       "    <tr>\n",
       "      <th>104106</th>\n",
       "      <td>Zytaevius</td>\n",
       "      <td>M</td>\n",
       "      <td>0</td>\n",
       "      <td>5</td>\n",
       "    </tr>\n",
       "    <tr>\n",
       "      <th>104107</th>\n",
       "      <td>Zytavion</td>\n",
       "      <td>M</td>\n",
       "      <td>0</td>\n",
       "      <td>5</td>\n",
       "    </tr>\n",
       "    <tr>\n",
       "      <th>104108</th>\n",
       "      <td>Zyvion</td>\n",
       "      <td>M</td>\n",
       "      <td>0</td>\n",
       "      <td>5</td>\n",
       "    </tr>\n",
       "    <tr>\n",
       "      <th>104109</th>\n",
       "      <td>Zzyzx</td>\n",
       "      <td>M</td>\n",
       "      <td>0</td>\n",
       "      <td>5</td>\n",
       "    </tr>\n",
       "  </tbody>\n",
       "</table>\n",
       "<p>104110 rows × 4 columns</p>\n",
       "</div>"
      ],
      "text/plain": [
       "             Name Gender  F_Frequency  M_Frequency\n",
       "0           James      M            0      5105919\n",
       "1            John      M            0      5084943\n",
       "2          Robert      M            0      4796695\n",
       "3         Michael      M            0      4309198\n",
       "4            Mary      F      4115282            0\n",
       "...           ...    ...          ...          ...\n",
       "104105     Zysean      M            0            5\n",
       "104106  Zytaevius      M            0            5\n",
       "104107   Zytavion      M            0            5\n",
       "104108     Zyvion      M            0            5\n",
       "104109      Zzyzx      M            0            5\n",
       "\n",
       "[104110 rows x 4 columns]"
      ]
     },
     "execution_count": 10,
     "metadata": {},
     "output_type": "execute_result"
    }
   ],
   "source": [
    "# ?? most popular male and female names?\n",
    "# number of baby names by gender ?\n",
    "names_by_gender = pd.read_sql(\"\"\"SELECT Name, Gender, \n",
    "                                SUM(CASE WHEN Gender = 'F' THEN Count\n",
    "                                ELSE 0 END) as F_Frequency,\n",
    "                                SUM(CASE WHEN Gender = 'M' THEN Count\n",
    "                                ELSE 0 END) as M_Frequency\n",
    "                                FROM baby_names\n",
    "                                GROUP BY Name, Gender\n",
    "                                ORDER BY SUM(Count) DESC\n",
    "                                \"\"\",\n",
    "                              con = db_connection)\n",
    "names_by_gender           "
   ]
  },
  {
   "cell_type": "markdown",
   "id": "8e73ef5c-aba1-41cd-b7de-68f0a2e5772b",
   "metadata": {},
   "source": [
    "#### Export result as csv"
   ]
  },
  {
   "cell_type": "code",
   "execution_count": 11,
   "id": "6aba4535-41cc-4e32-963c-f27d6ff8ea3a",
   "metadata": {
    "tags": []
   },
   "outputs": [],
   "source": [
    "# export into csv file\n",
    "names_by_gender.to_csv('C:\\\\Users\\\\91740\\\\Desktop\\\\SQL\\\\Exploratory Data Analysis with SQL\\\\US BabyNames Analysis\\\\result_names_by_gender.csv',\n",
    "                      index = True,\n",
    "                     index_label = 'S.no')"
   ]
  },
  {
   "cell_type": "raw",
   "id": "80f4a86b-0598-4d1f-96dd-c345c9d657ec",
   "metadata": {},
   "source": [
    "?? most popular names in all time?\n",
    "?? most popular male and female names?\n",
    "?? popular names year wise\n",
    "    --year as header and popular name as row value\n",
    "?? which male and female names have been popular for most years"
   ]
  },
  {
   "cell_type": "markdown",
   "id": "1de6097d-2d83-4591-9052-ef7b0f94dbbf",
   "metadata": {},
   "source": [
    "### Question 3"
   ]
  },
  {
   "cell_type": "markdown",
   "id": "e2d11202-beee-41d9-866a-1faae9007d27",
   "metadata": {},
   "source": [
    "#### Year wise most popular names?"
   ]
  },
  {
   "cell_type": "code",
   "execution_count": 12,
   "id": "c3e71044-1b4d-4e11-876a-fcd88133ffc3",
   "metadata": {
    "tags": []
   },
   "outputs": [
    {
     "data": {
      "text/html": [
       "<div>\n",
       "<style scoped>\n",
       "    .dataframe tbody tr th:only-of-type {\n",
       "        vertical-align: middle;\n",
       "    }\n",
       "\n",
       "    .dataframe tbody tr th {\n",
       "        vertical-align: top;\n",
       "    }\n",
       "\n",
       "    .dataframe thead th {\n",
       "        text-align: right;\n",
       "    }\n",
       "</style>\n",
       "<table border=\"1\" class=\"dataframe\">\n",
       "  <thead>\n",
       "    <tr style=\"text-align: right;\">\n",
       "      <th></th>\n",
       "      <th>Name</th>\n",
       "      <th>Year</th>\n",
       "      <th>Frequency</th>\n",
       "      <th>name_rank</th>\n",
       "    </tr>\n",
       "  </thead>\n",
       "  <tbody>\n",
       "    <tr>\n",
       "      <th>0</th>\n",
       "      <td>John</td>\n",
       "      <td>1880</td>\n",
       "      <td>9701</td>\n",
       "      <td>1</td>\n",
       "    </tr>\n",
       "    <tr>\n",
       "      <th>1</th>\n",
       "      <td>John</td>\n",
       "      <td>1881</td>\n",
       "      <td>8795</td>\n",
       "      <td>1</td>\n",
       "    </tr>\n",
       "    <tr>\n",
       "      <th>2</th>\n",
       "      <td>John</td>\n",
       "      <td>1882</td>\n",
       "      <td>9597</td>\n",
       "      <td>1</td>\n",
       "    </tr>\n",
       "    <tr>\n",
       "      <th>3</th>\n",
       "      <td>John</td>\n",
       "      <td>1883</td>\n",
       "      <td>8934</td>\n",
       "      <td>1</td>\n",
       "    </tr>\n",
       "    <tr>\n",
       "      <th>4</th>\n",
       "      <td>John</td>\n",
       "      <td>1884</td>\n",
       "      <td>9428</td>\n",
       "      <td>1</td>\n",
       "    </tr>\n",
       "    <tr>\n",
       "      <th>...</th>\n",
       "      <td>...</td>\n",
       "      <td>...</td>\n",
       "      <td>...</td>\n",
       "      <td>...</td>\n",
       "    </tr>\n",
       "    <tr>\n",
       "      <th>130</th>\n",
       "      <td>Isabella</td>\n",
       "      <td>2010</td>\n",
       "      <td>22913</td>\n",
       "      <td>1</td>\n",
       "    </tr>\n",
       "    <tr>\n",
       "      <th>131</th>\n",
       "      <td>Sophia</td>\n",
       "      <td>2011</td>\n",
       "      <td>21839</td>\n",
       "      <td>1</td>\n",
       "    </tr>\n",
       "    <tr>\n",
       "      <th>132</th>\n",
       "      <td>Sophia</td>\n",
       "      <td>2012</td>\n",
       "      <td>22285</td>\n",
       "      <td>1</td>\n",
       "    </tr>\n",
       "    <tr>\n",
       "      <th>133</th>\n",
       "      <td>Sophia</td>\n",
       "      <td>2013</td>\n",
       "      <td>21172</td>\n",
       "      <td>1</td>\n",
       "    </tr>\n",
       "    <tr>\n",
       "      <th>134</th>\n",
       "      <td>Emma</td>\n",
       "      <td>2014</td>\n",
       "      <td>20811</td>\n",
       "      <td>1</td>\n",
       "    </tr>\n",
       "  </tbody>\n",
       "</table>\n",
       "<p>135 rows × 4 columns</p>\n",
       "</div>"
      ],
      "text/plain": [
       "         Name  Year  Frequency  name_rank\n",
       "0        John  1880       9701          1\n",
       "1        John  1881       8795          1\n",
       "2        John  1882       9597          1\n",
       "3        John  1883       8934          1\n",
       "4        John  1884       9428          1\n",
       "..        ...   ...        ...        ...\n",
       "130  Isabella  2010      22913          1\n",
       "131    Sophia  2011      21839          1\n",
       "132    Sophia  2012      22285          1\n",
       "133    Sophia  2013      21172          1\n",
       "134      Emma  2014      20811          1\n",
       "\n",
       "[135 rows x 4 columns]"
      ]
     },
     "execution_count": 12,
     "metadata": {},
     "output_type": "execute_result"
    }
   ],
   "source": [
    "# ?? popular names year wise\n",
    "#    --year as header and popular name as row value\n",
    "popular_names_year = pd.read_sql(\"\"\"WITH t1 as\n",
    "                                    (\n",
    "                                    SELECT Name,Year,\n",
    "                                    SUM(Count) as Frequency,\n",
    "                                    rank() over(partition by Year order by SUM(Count) desc) as name_rank\n",
    "                                    FROM baby_names\n",
    "                                    GROUP BY Name,Year\n",
    "                                    ),t2 as\n",
    "                                    (\n",
    "                                    select * from t1\n",
    "                                    where name_rank = 1\n",
    "                                    )\n",
    "                                    select *\n",
    "                                    from t2\n",
    "                                    \"\"\",\n",
    "                                 con = db_connection)\n",
    "popular_names_year\n",
    "# cant write a pivot function here, sql lite does not support pivot function\n",
    "# writing case statement on 132 records is not practical hence, can derive thos result on tableau"
   ]
  },
  {
   "cell_type": "markdown",
   "id": "13ec1a77-3b9a-43bf-a3ec-50b6ffec9e7c",
   "metadata": {},
   "source": [
    "#### Export result as csv"
   ]
  },
  {
   "cell_type": "code",
   "execution_count": 13,
   "id": "5d0893ac-db1c-4525-83cf-9d905205a499",
   "metadata": {
    "tags": []
   },
   "outputs": [],
   "source": [
    "## export the result into csv file \n",
    "popular_names_year.to_csv('C:\\\\Users\\\\91740\\\\Desktop\\\\SQL\\\\Exploratory Data Analysis with SQL\\\\US BabyNames Analysis\\\\result_popular_names_year.csv',\n",
    "                      index = True,\n",
    "                     index_label = 'S.no')"
   ]
  },
  {
   "cell_type": "markdown",
   "id": "c364805e-82d7-44d9-a8e6-e8ac5f12537f",
   "metadata": {},
   "source": [
    "### Question 4"
   ]
  },
  {
   "cell_type": "markdown",
   "id": "c11b659b-95c7-4fb6-b2c3-4d3e9d527757",
   "metadata": {},
   "source": [
    "#### Which male and female names have been popular for most years?"
   ]
  },
  {
   "cell_type": "code",
   "execution_count": 14,
   "id": "7d64b85c-a3f0-483d-9fba-c874d677a4ba",
   "metadata": {
    "tags": []
   },
   "outputs": [
    {
     "data": {
      "text/html": [
       "<div>\n",
       "<style scoped>\n",
       "    .dataframe tbody tr th:only-of-type {\n",
       "        vertical-align: middle;\n",
       "    }\n",
       "\n",
       "    .dataframe tbody tr th {\n",
       "        vertical-align: top;\n",
       "    }\n",
       "\n",
       "    .dataframe thead th {\n",
       "        text-align: right;\n",
       "    }\n",
       "</style>\n",
       "<table border=\"1\" class=\"dataframe\">\n",
       "  <thead>\n",
       "    <tr style=\"text-align: right;\">\n",
       "      <th></th>\n",
       "      <th>Name</th>\n",
       "      <th>Gender</th>\n",
       "      <th>popularity</th>\n",
       "    </tr>\n",
       "  </thead>\n",
       "  <tbody>\n",
       "    <tr>\n",
       "      <th>0</th>\n",
       "      <td>Mary</td>\n",
       "      <td>F</td>\n",
       "      <td>76</td>\n",
       "    </tr>\n",
       "    <tr>\n",
       "      <th>1</th>\n",
       "      <td>John</td>\n",
       "      <td>M</td>\n",
       "      <td>44</td>\n",
       "    </tr>\n",
       "    <tr>\n",
       "      <th>2</th>\n",
       "      <td>Michael</td>\n",
       "      <td>M</td>\n",
       "      <td>44</td>\n",
       "    </tr>\n",
       "    <tr>\n",
       "      <th>3</th>\n",
       "      <td>Robert</td>\n",
       "      <td>M</td>\n",
       "      <td>17</td>\n",
       "    </tr>\n",
       "    <tr>\n",
       "      <th>4</th>\n",
       "      <td>Jennifer</td>\n",
       "      <td>F</td>\n",
       "      <td>15</td>\n",
       "    </tr>\n",
       "    <tr>\n",
       "      <th>5</th>\n",
       "      <td>Jacob</td>\n",
       "      <td>M</td>\n",
       "      <td>14</td>\n",
       "    </tr>\n",
       "    <tr>\n",
       "      <th>6</th>\n",
       "      <td>James</td>\n",
       "      <td>M</td>\n",
       "      <td>13</td>\n",
       "    </tr>\n",
       "    <tr>\n",
       "      <th>7</th>\n",
       "      <td>Emily</td>\n",
       "      <td>F</td>\n",
       "      <td>12</td>\n",
       "    </tr>\n",
       "    <tr>\n",
       "      <th>8</th>\n",
       "      <td>Jessica</td>\n",
       "      <td>F</td>\n",
       "      <td>9</td>\n",
       "    </tr>\n",
       "    <tr>\n",
       "      <th>9</th>\n",
       "      <td>Lisa</td>\n",
       "      <td>F</td>\n",
       "      <td>8</td>\n",
       "    </tr>\n",
       "    <tr>\n",
       "      <th>10</th>\n",
       "      <td>Linda</td>\n",
       "      <td>F</td>\n",
       "      <td>6</td>\n",
       "    </tr>\n",
       "    <tr>\n",
       "      <th>11</th>\n",
       "      <td>Sophia</td>\n",
       "      <td>F</td>\n",
       "      <td>3</td>\n",
       "    </tr>\n",
       "    <tr>\n",
       "      <th>12</th>\n",
       "      <td>Ashley</td>\n",
       "      <td>F</td>\n",
       "      <td>2</td>\n",
       "    </tr>\n",
       "    <tr>\n",
       "      <th>13</th>\n",
       "      <td>Emma</td>\n",
       "      <td>F</td>\n",
       "      <td>2</td>\n",
       "    </tr>\n",
       "    <tr>\n",
       "      <th>14</th>\n",
       "      <td>Isabella</td>\n",
       "      <td>F</td>\n",
       "      <td>2</td>\n",
       "    </tr>\n",
       "    <tr>\n",
       "      <th>15</th>\n",
       "      <td>Noah</td>\n",
       "      <td>M</td>\n",
       "      <td>2</td>\n",
       "    </tr>\n",
       "    <tr>\n",
       "      <th>16</th>\n",
       "      <td>David</td>\n",
       "      <td>M</td>\n",
       "      <td>1</td>\n",
       "    </tr>\n",
       "  </tbody>\n",
       "</table>\n",
       "</div>"
      ],
      "text/plain": [
       "        Name Gender  popularity\n",
       "0       Mary      F          76\n",
       "1       John      M          44\n",
       "2    Michael      M          44\n",
       "3     Robert      M          17\n",
       "4   Jennifer      F          15\n",
       "5      Jacob      M          14\n",
       "6      James      M          13\n",
       "7      Emily      F          12\n",
       "8    Jessica      F           9\n",
       "9       Lisa      F           8\n",
       "10     Linda      F           6\n",
       "11    Sophia      F           3\n",
       "12    Ashley      F           2\n",
       "13      Emma      F           2\n",
       "14  Isabella      F           2\n",
       "15      Noah      M           2\n",
       "16     David      M           1"
      ]
     },
     "execution_count": 14,
     "metadata": {},
     "output_type": "execute_result"
    }
   ],
   "source": [
    "#?? which male and female names have been popular for most years\n",
    "famous_names_most_year = pd.read_sql(\"\"\"WITH t1 as\n",
    "                                    (\n",
    "                                    SELECT Name,Year,Gender,\n",
    "                                    SUM(Count) as Frequency,\n",
    "                                    rank() over(partition by Year,Gender order by SUM(Count) desc) as name_rank\n",
    "                                    FROM baby_names\n",
    "                                    GROUP BY Name,Year,Gender\n",
    "                                    ),t2 as\n",
    "                                    (\n",
    "                                    select * from t1\n",
    "                                    where name_rank = 1\n",
    "                                    )\n",
    "                                    select Name,Gender,count(*) as popularity\n",
    "                                    from t2\n",
    "                                    group by Name,Gender\n",
    "                                    order by popularity desc\n",
    "                                    \"\"\",\n",
    "                                 con = db_connection)\n",
    "famous_names_most_year"
   ]
  },
  {
   "cell_type": "markdown",
   "id": "342e28f4-c39d-478e-abc3-35a3871df0fb",
   "metadata": {},
   "source": [
    "#### Export result as csv"
   ]
  },
  {
   "cell_type": "code",
   "execution_count": 16,
   "id": "a84c9f79-1f18-4604-828a-4448756a0689",
   "metadata": {},
   "outputs": [],
   "source": [
    "# export result into csv file\n",
    "famous_names_most_year.to_csv('C:\\\\Users\\\\91740\\\\Desktop\\\\SQL\\\\Exploratory Data Analysis with SQL\\\\US BabyNames Analysis\\\\result_famous_names_most_year.csv',\n",
    "                      index = True,\n",
    "                     index_label = 'S.no')"
   ]
  },
  {
   "cell_type": "code",
   "execution_count": null,
   "id": "04a5d7aa-f41e-44f1-a7f5-966bf6306621",
   "metadata": {},
   "outputs": [],
   "source": []
  }
 ],
 "metadata": {
  "kernelspec": {
   "display_name": "Python 3 (ipykernel)",
   "language": "python",
   "name": "python3"
  },
  "language_info": {
   "codemirror_mode": {
    "name": "ipython",
    "version": 3
   },
   "file_extension": ".py",
   "mimetype": "text/x-python",
   "name": "python",
   "nbconvert_exporter": "python",
   "pygments_lexer": "ipython3",
   "version": "3.11.4"
  }
 },
 "nbformat": 4,
 "nbformat_minor": 5
}
