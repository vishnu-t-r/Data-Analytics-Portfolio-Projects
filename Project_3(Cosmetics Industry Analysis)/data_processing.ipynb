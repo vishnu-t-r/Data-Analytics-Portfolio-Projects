{
 "cells": [
  {
   "cell_type": "code",
   "execution_count": 1,
   "id": "a7a59ab5-5579-48af-8135-4445b3cfe5da",
   "metadata": {
    "tags": []
   },
   "outputs": [],
   "source": [
    "import pandas as pd"
   ]
  },
  {
   "cell_type": "code",
   "execution_count": 97,
   "id": "56cd1877-cace-42e1-9f35-9a8997923436",
   "metadata": {
    "tags": []
   },
   "outputs": [],
   "source": [
    "df = pd.read_csv(\"C:\\\\Users\\\\91740\\\\Desktop\\\\SQL\\\\Exploratory Data Analysis with SQL\\\\05_Chemicals in Cosmetics Analysis....................... in progress\\\\data\\\\chemicals-in-cosmetics.csv\")"
   ]
  },
  {
   "cell_type": "code",
   "execution_count": 98,
   "id": "0ffa7b2b-cd71-4487-b32d-9c07957d5141",
   "metadata": {
    "tags": []
   },
   "outputs": [
    {
     "data": {
      "text/html": [
       "<div>\n",
       "<style scoped>\n",
       "    .dataframe tbody tr th:only-of-type {\n",
       "        vertical-align: middle;\n",
       "    }\n",
       "\n",
       "    .dataframe tbody tr th {\n",
       "        vertical-align: top;\n",
       "    }\n",
       "\n",
       "    .dataframe thead th {\n",
       "        text-align: right;\n",
       "    }\n",
       "</style>\n",
       "<table border=\"1\" class=\"dataframe\">\n",
       "  <thead>\n",
       "    <tr style=\"text-align: right;\">\n",
       "      <th></th>\n",
       "      <th>CDPHId</th>\n",
       "      <th>ProductName</th>\n",
       "      <th>CSFId</th>\n",
       "      <th>CSF</th>\n",
       "      <th>CompanyId</th>\n",
       "      <th>CompanyName</th>\n",
       "      <th>BrandName</th>\n",
       "      <th>PrimaryCategoryId</th>\n",
       "      <th>PrimaryCategory</th>\n",
       "      <th>SubCategoryId</th>\n",
       "      <th>...</th>\n",
       "      <th>CasNumber</th>\n",
       "      <th>ChemicalId</th>\n",
       "      <th>ChemicalName</th>\n",
       "      <th>InitialDateReported</th>\n",
       "      <th>MostRecentDateReported</th>\n",
       "      <th>DiscontinuedDate</th>\n",
       "      <th>ChemicalCreatedAt</th>\n",
       "      <th>ChemicalUpdatedAt</th>\n",
       "      <th>ChemicalDateRemoved</th>\n",
       "      <th>ChemicalCount</th>\n",
       "    </tr>\n",
       "  </thead>\n",
       "  <tbody>\n",
       "    <tr>\n",
       "      <th>0</th>\n",
       "      <td>2</td>\n",
       "      <td>ULTRA COLOR RICH EXTRA PLUMP LIPSTICK-ALL SHADES</td>\n",
       "      <td>NaN</td>\n",
       "      <td>NaN</td>\n",
       "      <td>4</td>\n",
       "      <td>New Avon LLC</td>\n",
       "      <td>AVON</td>\n",
       "      <td>44</td>\n",
       "      <td>Makeup Products (non-permanent)</td>\n",
       "      <td>53</td>\n",
       "      <td>...</td>\n",
       "      <td>13463-67-7</td>\n",
       "      <td>6</td>\n",
       "      <td>Titanium dioxide</td>\n",
       "      <td>06/17/2009</td>\n",
       "      <td>08/28/2013</td>\n",
       "      <td>02-01-2011</td>\n",
       "      <td>07-09-2009</td>\n",
       "      <td>07-09-2009</td>\n",
       "      <td>NaN</td>\n",
       "      <td>1</td>\n",
       "    </tr>\n",
       "    <tr>\n",
       "      <th>1</th>\n",
       "      <td>3</td>\n",
       "      <td>Glover's Medicated Shampoo</td>\n",
       "      <td>NaN</td>\n",
       "      <td>NaN</td>\n",
       "      <td>338</td>\n",
       "      <td>J. Strickland &amp; Co.</td>\n",
       "      <td>Glover's</td>\n",
       "      <td>18</td>\n",
       "      <td>Hair Care Products (non-coloring)</td>\n",
       "      <td>25</td>\n",
       "      <td>...</td>\n",
       "      <td>65996-92-1</td>\n",
       "      <td>4</td>\n",
       "      <td>Distillates (coal tar)</td>\n",
       "      <td>07-01-2009</td>\n",
       "      <td>07-01-2009</td>\n",
       "      <td>NaN</td>\n",
       "      <td>07-01-2009</td>\n",
       "      <td>07-01-2009</td>\n",
       "      <td>NaN</td>\n",
       "      <td>2</td>\n",
       "    </tr>\n",
       "  </tbody>\n",
       "</table>\n",
       "<p>2 rows × 22 columns</p>\n",
       "</div>"
      ],
      "text/plain": [
       "   CDPHId                                       ProductName  CSFId  CSF  \\\n",
       "0       2  ULTRA COLOR RICH EXTRA PLUMP LIPSTICK-ALL SHADES    NaN  NaN   \n",
       "1       3                        Glover's Medicated Shampoo    NaN  NaN   \n",
       "\n",
       "   CompanyId          CompanyName BrandName  PrimaryCategoryId  \\\n",
       "0          4         New Avon LLC      AVON                 44   \n",
       "1        338  J. Strickland & Co.  Glover's                 18   \n",
       "\n",
       "                     PrimaryCategory  SubCategoryId  ...   CasNumber  \\\n",
       "0    Makeup Products (non-permanent)             53  ...  13463-67-7   \n",
       "1  Hair Care Products (non-coloring)             25  ...  65996-92-1   \n",
       "\n",
       "   ChemicalId            ChemicalName  InitialDateReported  \\\n",
       "0           6        Titanium dioxide           06/17/2009   \n",
       "1           4  Distillates (coal tar)           07-01-2009   \n",
       "\n",
       "  MostRecentDateReported DiscontinuedDate ChemicalCreatedAt ChemicalUpdatedAt  \\\n",
       "0             08/28/2013       02-01-2011        07-09-2009        07-09-2009   \n",
       "1             07-01-2009              NaN        07-01-2009        07-01-2009   \n",
       "\n",
       "  ChemicalDateRemoved ChemicalCount  \n",
       "0                 NaN             1  \n",
       "1                 NaN             2  \n",
       "\n",
       "[2 rows x 22 columns]"
      ]
     },
     "execution_count": 98,
     "metadata": {},
     "output_type": "execute_result"
    }
   ],
   "source": [
    "df.head(2)"
   ]
  },
  {
   "cell_type": "code",
   "execution_count": 99,
   "id": "9235c34b-f717-45cf-9b9e-8819b9b996c8",
   "metadata": {
    "tags": []
   },
   "outputs": [
    {
     "data": {
      "text/html": [
       "<div>\n",
       "<style scoped>\n",
       "    .dataframe tbody tr th:only-of-type {\n",
       "        vertical-align: middle;\n",
       "    }\n",
       "\n",
       "    .dataframe tbody tr th {\n",
       "        vertical-align: top;\n",
       "    }\n",
       "\n",
       "    .dataframe thead th {\n",
       "        text-align: right;\n",
       "    }\n",
       "</style>\n",
       "<table border=\"1\" class=\"dataframe\">\n",
       "  <thead>\n",
       "    <tr style=\"text-align: right;\">\n",
       "      <th></th>\n",
       "      <th>CDPHId</th>\n",
       "      <th>CSFId</th>\n",
       "      <th>CompanyId</th>\n",
       "      <th>PrimaryCategoryId</th>\n",
       "      <th>SubCategoryId</th>\n",
       "      <th>CasId</th>\n",
       "      <th>ChemicalId</th>\n",
       "      <th>ChemicalCount</th>\n",
       "    </tr>\n",
       "  </thead>\n",
       "  <tbody>\n",
       "    <tr>\n",
       "      <th>count</th>\n",
       "      <td>112870.000000</td>\n",
       "      <td>79187.000000</td>\n",
       "      <td>112870.000000</td>\n",
       "      <td>112870.000000</td>\n",
       "      <td>112870.000000</td>\n",
       "      <td>112870.000000</td>\n",
       "      <td>112870.000000</td>\n",
       "      <td>112870.000000</td>\n",
       "    </tr>\n",
       "    <tr>\n",
       "      <th>mean</th>\n",
       "      <td>19993.707203</td>\n",
       "      <td>32027.268024</td>\n",
       "      <td>445.114477</td>\n",
       "      <td>51.139470</td>\n",
       "      <td>66.985922</td>\n",
       "      <td>673.754762</td>\n",
       "      <td>32313.099442</td>\n",
       "      <td>1.281784</td>\n",
       "    </tr>\n",
       "    <tr>\n",
       "      <th>std</th>\n",
       "      <td>12327.400697</td>\n",
       "      <td>18774.020397</td>\n",
       "      <td>405.832049</td>\n",
       "      <td>20.558343</td>\n",
       "      <td>35.958149</td>\n",
       "      <td>148.616904</td>\n",
       "      <td>20152.245894</td>\n",
       "      <td>0.629136</td>\n",
       "    </tr>\n",
       "    <tr>\n",
       "      <th>min</th>\n",
       "      <td>2.000000</td>\n",
       "      <td>1.000000</td>\n",
       "      <td>4.000000</td>\n",
       "      <td>1.000000</td>\n",
       "      <td>3.000000</td>\n",
       "      <td>2.000000</td>\n",
       "      <td>0.000000</td>\n",
       "      <td>0.000000</td>\n",
       "    </tr>\n",
       "    <tr>\n",
       "      <th>25%</th>\n",
       "      <td>8540.250000</td>\n",
       "      <td>15530.500000</td>\n",
       "      <td>86.000000</td>\n",
       "      <td>44.000000</td>\n",
       "      <td>48.000000</td>\n",
       "      <td>656.000000</td>\n",
       "      <td>13932.250000</td>\n",
       "      <td>1.000000</td>\n",
       "    </tr>\n",
       "    <tr>\n",
       "      <th>50%</th>\n",
       "      <td>20522.000000</td>\n",
       "      <td>31885.000000</td>\n",
       "      <td>292.000000</td>\n",
       "      <td>44.000000</td>\n",
       "      <td>52.000000</td>\n",
       "      <td>656.000000</td>\n",
       "      <td>31789.000000</td>\n",
       "      <td>1.000000</td>\n",
       "    </tr>\n",
       "    <tr>\n",
       "      <th>75%</th>\n",
       "      <td>30713.000000</td>\n",
       "      <td>48175.500000</td>\n",
       "      <td>747.000000</td>\n",
       "      <td>59.000000</td>\n",
       "      <td>65.000000</td>\n",
       "      <td>656.000000</td>\n",
       "      <td>50470.750000</td>\n",
       "      <td>1.000000</td>\n",
       "    </tr>\n",
       "    <tr>\n",
       "      <th>max</th>\n",
       "      <td>41032.000000</td>\n",
       "      <td>64115.000000</td>\n",
       "      <td>1358.000000</td>\n",
       "      <td>111.000000</td>\n",
       "      <td>172.000000</td>\n",
       "      <td>1242.000000</td>\n",
       "      <td>67177.000000</td>\n",
       "      <td>9.000000</td>\n",
       "    </tr>\n",
       "  </tbody>\n",
       "</table>\n",
       "</div>"
      ],
      "text/plain": [
       "              CDPHId         CSFId      CompanyId  PrimaryCategoryId  \\\n",
       "count  112870.000000  79187.000000  112870.000000      112870.000000   \n",
       "mean    19993.707203  32027.268024     445.114477          51.139470   \n",
       "std     12327.400697  18774.020397     405.832049          20.558343   \n",
       "min         2.000000      1.000000       4.000000           1.000000   \n",
       "25%      8540.250000  15530.500000      86.000000          44.000000   \n",
       "50%     20522.000000  31885.000000     292.000000          44.000000   \n",
       "75%     30713.000000  48175.500000     747.000000          59.000000   \n",
       "max     41032.000000  64115.000000    1358.000000         111.000000   \n",
       "\n",
       "       SubCategoryId          CasId     ChemicalId  ChemicalCount  \n",
       "count  112870.000000  112870.000000  112870.000000  112870.000000  \n",
       "mean       66.985922     673.754762   32313.099442       1.281784  \n",
       "std        35.958149     148.616904   20152.245894       0.629136  \n",
       "min         3.000000       2.000000       0.000000       0.000000  \n",
       "25%        48.000000     656.000000   13932.250000       1.000000  \n",
       "50%        52.000000     656.000000   31789.000000       1.000000  \n",
       "75%        65.000000     656.000000   50470.750000       1.000000  \n",
       "max       172.000000    1242.000000   67177.000000       9.000000  "
      ]
     },
     "execution_count": 99,
     "metadata": {},
     "output_type": "execute_result"
    }
   ],
   "source": [
    "df.describe()"
   ]
  },
  {
   "cell_type": "code",
   "execution_count": 100,
   "id": "8c5bb9f4-b4e3-415d-a98e-d7a997d3a1cc",
   "metadata": {
    "tags": []
   },
   "outputs": [
    {
     "name": "stdout",
     "output_type": "stream",
     "text": [
      "<class 'pandas.core.frame.DataFrame'>\n",
      "RangeIndex: 112870 entries, 0 to 112869\n",
      "Data columns (total 22 columns):\n",
      " #   Column                  Non-Null Count   Dtype  \n",
      "---  ------                  --------------   -----  \n",
      " 0   CDPHId                  112870 non-null  int64  \n",
      " 1   ProductName             112870 non-null  object \n",
      " 2   CSFId                   79187 non-null   float64\n",
      " 3   CSF                     78763 non-null   object \n",
      " 4   CompanyId               112870 non-null  int64  \n",
      " 5   CompanyName             112870 non-null  object \n",
      " 6   BrandName               112658 non-null  object \n",
      " 7   PrimaryCategoryId       112870 non-null  int64  \n",
      " 8   PrimaryCategory         112870 non-null  object \n",
      " 9   SubCategoryId           112870 non-null  int64  \n",
      " 10  SubCategory             112870 non-null  object \n",
      " 11  CasId                   112870 non-null  int64  \n",
      " 12  CasNumber               106581 non-null  object \n",
      " 13  ChemicalId              112870 non-null  int64  \n",
      " 14  ChemicalName            112870 non-null  object \n",
      " 15  InitialDateReported     112870 non-null  object \n",
      " 16  MostRecentDateReported  112870 non-null  object \n",
      " 17  DiscontinuedDate        12906 non-null   object \n",
      " 18  ChemicalCreatedAt       112870 non-null  object \n",
      " 19  ChemicalUpdatedAt       112870 non-null  object \n",
      " 20  ChemicalDateRemoved     2921 non-null    object \n",
      " 21  ChemicalCount           112870 non-null  int64  \n",
      "dtypes: float64(1), int64(7), object(14)\n",
      "memory usage: 18.9+ MB\n"
     ]
    }
   ],
   "source": [
    "df.info()"
   ]
  },
  {
   "cell_type": "code",
   "execution_count": 101,
   "id": "224e2726-3da4-4e83-a446-20346e7b27ec",
   "metadata": {
    "tags": []
   },
   "outputs": [
    {
     "data": {
      "text/html": [
       "<div>\n",
       "<style scoped>\n",
       "    .dataframe tbody tr th:only-of-type {\n",
       "        vertical-align: middle;\n",
       "    }\n",
       "\n",
       "    .dataframe tbody tr th {\n",
       "        vertical-align: top;\n",
       "    }\n",
       "\n",
       "    .dataframe thead th {\n",
       "        text-align: right;\n",
       "    }\n",
       "</style>\n",
       "<table border=\"1\" class=\"dataframe\">\n",
       "  <thead>\n",
       "    <tr style=\"text-align: right;\">\n",
       "      <th></th>\n",
       "      <th>CDPHId</th>\n",
       "      <th>CSFId</th>\n",
       "      <th>CSF</th>\n",
       "      <th>CompanyId</th>\n",
       "      <th>CompanyName</th>\n",
       "      <th>BrandName</th>\n",
       "      <th>PrimaryCategoryId</th>\n",
       "      <th>PrimaryCategory</th>\n",
       "      <th>SubCategoryId</th>\n",
       "      <th>SubCategory</th>\n",
       "      <th>...</th>\n",
       "      <th>CasNumber</th>\n",
       "      <th>ChemicalId</th>\n",
       "      <th>ChemicalName</th>\n",
       "      <th>InitialDateReported</th>\n",
       "      <th>MostRecentDateReported</th>\n",
       "      <th>DiscontinuedDate</th>\n",
       "      <th>ChemicalCreatedAt</th>\n",
       "      <th>ChemicalUpdatedAt</th>\n",
       "      <th>ChemicalDateRemoved</th>\n",
       "      <th>ChemicalCount</th>\n",
       "    </tr>\n",
       "    <tr>\n",
       "      <th>ProductName</th>\n",
       "      <th></th>\n",
       "      <th></th>\n",
       "      <th></th>\n",
       "      <th></th>\n",
       "      <th></th>\n",
       "      <th></th>\n",
       "      <th></th>\n",
       "      <th></th>\n",
       "      <th></th>\n",
       "      <th></th>\n",
       "      <th></th>\n",
       "      <th></th>\n",
       "      <th></th>\n",
       "      <th></th>\n",
       "      <th></th>\n",
       "      <th></th>\n",
       "      <th></th>\n",
       "      <th></th>\n",
       "      <th></th>\n",
       "      <th></th>\n",
       "      <th></th>\n",
       "    </tr>\n",
       "  </thead>\n",
       "  <tbody>\n",
       "    <tr>\n",
       "      <th>\" ROUGE DIOR ULTRA CARE LIQUID Flower Oil Liquid Lipstick Ultra  Weightless Wear Petal Velvet Finish</th>\n",
       "      <td>25</td>\n",
       "      <td>25</td>\n",
       "      <td>25</td>\n",
       "      <td>25</td>\n",
       "      <td>25</td>\n",
       "      <td>25</td>\n",
       "      <td>25</td>\n",
       "      <td>25</td>\n",
       "      <td>25</td>\n",
       "      <td>25</td>\n",
       "      <td>...</td>\n",
       "      <td>25</td>\n",
       "      <td>25</td>\n",
       "      <td>25</td>\n",
       "      <td>25</td>\n",
       "      <td>25</td>\n",
       "      <td>0</td>\n",
       "      <td>25</td>\n",
       "      <td>25</td>\n",
       "      <td>0</td>\n",
       "      <td>25</td>\n",
       "    </tr>\n",
       "    <tr>\n",
       "      <th>\"DIOR PRESTIGE LE MICRO-FLUIDE TEINT DE ROSE Micro-Nutritive Skincare Foundation  Revitalizing and Illuminating</th>\n",
       "      <td>7</td>\n",
       "      <td>7</td>\n",
       "      <td>7</td>\n",
       "      <td>7</td>\n",
       "      <td>7</td>\n",
       "      <td>7</td>\n",
       "      <td>7</td>\n",
       "      <td>7</td>\n",
       "      <td>7</td>\n",
       "      <td>7</td>\n",
       "      <td>...</td>\n",
       "      <td>7</td>\n",
       "      <td>7</td>\n",
       "      <td>7</td>\n",
       "      <td>7</td>\n",
       "      <td>7</td>\n",
       "      <td>0</td>\n",
       "      <td>7</td>\n",
       "      <td>7</td>\n",
       "      <td>0</td>\n",
       "      <td>7</td>\n",
       "    </tr>\n",
       "  </tbody>\n",
       "</table>\n",
       "<p>2 rows × 21 columns</p>\n",
       "</div>"
      ],
      "text/plain": [
       "                                                    CDPHId  CSFId  CSF  \\\n",
       "ProductName                                                              \n",
       "\" ROUGE DIOR ULTRA CARE LIQUID Flower Oil Liqui...      25     25   25   \n",
       "\"DIOR PRESTIGE LE MICRO-FLUIDE TEINT DE ROSE Mi...       7      7    7   \n",
       "\n",
       "                                                    CompanyId  CompanyName  \\\n",
       "ProductName                                                                  \n",
       "\" ROUGE DIOR ULTRA CARE LIQUID Flower Oil Liqui...         25           25   \n",
       "\"DIOR PRESTIGE LE MICRO-FLUIDE TEINT DE ROSE Mi...          7            7   \n",
       "\n",
       "                                                    BrandName  \\\n",
       "ProductName                                                     \n",
       "\" ROUGE DIOR ULTRA CARE LIQUID Flower Oil Liqui...         25   \n",
       "\"DIOR PRESTIGE LE MICRO-FLUIDE TEINT DE ROSE Mi...          7   \n",
       "\n",
       "                                                    PrimaryCategoryId  \\\n",
       "ProductName                                                             \n",
       "\" ROUGE DIOR ULTRA CARE LIQUID Flower Oil Liqui...                 25   \n",
       "\"DIOR PRESTIGE LE MICRO-FLUIDE TEINT DE ROSE Mi...                  7   \n",
       "\n",
       "                                                    PrimaryCategory  \\\n",
       "ProductName                                                           \n",
       "\" ROUGE DIOR ULTRA CARE LIQUID Flower Oil Liqui...               25   \n",
       "\"DIOR PRESTIGE LE MICRO-FLUIDE TEINT DE ROSE Mi...                7   \n",
       "\n",
       "                                                    SubCategoryId  \\\n",
       "ProductName                                                         \n",
       "\" ROUGE DIOR ULTRA CARE LIQUID Flower Oil Liqui...             25   \n",
       "\"DIOR PRESTIGE LE MICRO-FLUIDE TEINT DE ROSE Mi...              7   \n",
       "\n",
       "                                                    SubCategory  ...  \\\n",
       "ProductName                                                      ...   \n",
       "\" ROUGE DIOR ULTRA CARE LIQUID Flower Oil Liqui...           25  ...   \n",
       "\"DIOR PRESTIGE LE MICRO-FLUIDE TEINT DE ROSE Mi...            7  ...   \n",
       "\n",
       "                                                    CasNumber  ChemicalId  \\\n",
       "ProductName                                                                 \n",
       "\" ROUGE DIOR ULTRA CARE LIQUID Flower Oil Liqui...         25          25   \n",
       "\"DIOR PRESTIGE LE MICRO-FLUIDE TEINT DE ROSE Mi...          7           7   \n",
       "\n",
       "                                                    ChemicalName  \\\n",
       "ProductName                                                        \n",
       "\" ROUGE DIOR ULTRA CARE LIQUID Flower Oil Liqui...            25   \n",
       "\"DIOR PRESTIGE LE MICRO-FLUIDE TEINT DE ROSE Mi...             7   \n",
       "\n",
       "                                                    InitialDateReported  \\\n",
       "ProductName                                                               \n",
       "\" ROUGE DIOR ULTRA CARE LIQUID Flower Oil Liqui...                   25   \n",
       "\"DIOR PRESTIGE LE MICRO-FLUIDE TEINT DE ROSE Mi...                    7   \n",
       "\n",
       "                                                    MostRecentDateReported  \\\n",
       "ProductName                                                                  \n",
       "\" ROUGE DIOR ULTRA CARE LIQUID Flower Oil Liqui...                      25   \n",
       "\"DIOR PRESTIGE LE MICRO-FLUIDE TEINT DE ROSE Mi...                       7   \n",
       "\n",
       "                                                    DiscontinuedDate  \\\n",
       "ProductName                                                            \n",
       "\" ROUGE DIOR ULTRA CARE LIQUID Flower Oil Liqui...                 0   \n",
       "\"DIOR PRESTIGE LE MICRO-FLUIDE TEINT DE ROSE Mi...                 0   \n",
       "\n",
       "                                                    ChemicalCreatedAt  \\\n",
       "ProductName                                                             \n",
       "\" ROUGE DIOR ULTRA CARE LIQUID Flower Oil Liqui...                 25   \n",
       "\"DIOR PRESTIGE LE MICRO-FLUIDE TEINT DE ROSE Mi...                  7   \n",
       "\n",
       "                                                    ChemicalUpdatedAt  \\\n",
       "ProductName                                                             \n",
       "\" ROUGE DIOR ULTRA CARE LIQUID Flower Oil Liqui...                 25   \n",
       "\"DIOR PRESTIGE LE MICRO-FLUIDE TEINT DE ROSE Mi...                  7   \n",
       "\n",
       "                                                    ChemicalDateRemoved  \\\n",
       "ProductName                                                               \n",
       "\" ROUGE DIOR ULTRA CARE LIQUID Flower Oil Liqui...                    0   \n",
       "\"DIOR PRESTIGE LE MICRO-FLUIDE TEINT DE ROSE Mi...                    0   \n",
       "\n",
       "                                                    ChemicalCount  \n",
       "ProductName                                                        \n",
       "\" ROUGE DIOR ULTRA CARE LIQUID Flower Oil Liqui...             25  \n",
       "\"DIOR PRESTIGE LE MICRO-FLUIDE TEINT DE ROSE Mi...              7  \n",
       "\n",
       "[2 rows x 21 columns]"
      ]
     },
     "execution_count": 101,
     "metadata": {},
     "output_type": "execute_result"
    }
   ],
   "source": [
    "group_1 = df.groupby(['ProductName'])\n",
    "group_1.count().head(2)"
   ]
  },
  {
   "cell_type": "markdown",
   "id": "40a758f5-94dd-4a97-a506-3a84475dcee4",
   "metadata": {},
   "source": [
    "#### ProductName"
   ]
  },
  {
   "cell_type": "code",
   "execution_count": 102,
   "id": "703d96ab-84e2-4570-8e1d-eb0a746b3b44",
   "metadata": {
    "tags": []
   },
   "outputs": [
    {
     "data": {
      "text/plain": [
       "0          ULTRA COLOR RICH EXTRA PLUMP LIPSTICK ALL SHADES\n",
       "1                                Glover s Medicated Shampoo\n",
       "2                                Glover s Medicated Shampoo\n",
       "3                  PRECISION GLIMMER EYE LINER ALL SHADES  \n",
       "4               AVON BRILLIANT SHINE LIP GLOSS ALL SHADES  \n",
       "                                ...                        \n",
       "112865    Rainforest of the Sea  foil finger paints shad...\n",
       "112866    Rainforest of the Sea  foil finger paints shad...\n",
       "112867    Rainforest of the Sea  foil finger paints shad...\n",
       "112868    Rainforest of the Sea  foil finger paints shad...\n",
       "112869    Rainforest of the Sea  foil finger paints shad...\n",
       "Name: ProductName, Length: 112870, dtype: object"
      ]
     },
     "execution_count": 102,
     "metadata": {},
     "output_type": "execute_result"
    }
   ],
   "source": [
    "## productname column\n",
    "## remove all the characters except alphabets and numbers\n",
    "df['ProductName'] = df['ProductName'].str.replace('[^a-zA-Z0-9]', ' ', regex=True)\n",
    "df['ProductName']"
   ]
  },
  {
   "cell_type": "code",
   "execution_count": 103,
   "id": "df5ad5f2-8998-44a3-b205-02e333ffe3ad",
   "metadata": {
    "tags": []
   },
   "outputs": [],
   "source": [
    "## new df created with only two columns\n",
    "## result save as csv file\n",
    "new_df = df[['CDPHId','ProductName']]\n",
    "new_df.to_csv('test.csv', index = True)"
   ]
  },
  {
   "cell_type": "code",
   "execution_count": 104,
   "id": "72a859e1-f11d-4a75-bea1-16712b0dd615",
   "metadata": {
    "tags": []
   },
   "outputs": [],
   "source": [
    "## column CSF remove characters except alphabets and numeric data\n",
    "df['CSF'] = df['CSF'].str.replace('[^a-zA-Z0-9]', ' ', regex=True)"
   ]
  },
  {
   "cell_type": "code",
   "execution_count": 105,
   "id": "392cabf1-fdc0-40b2-b0e4-de4befe19ee6",
   "metadata": {
    "tags": []
   },
   "outputs": [
    {
     "data": {
      "text/html": [
       "<div>\n",
       "<style scoped>\n",
       "    .dataframe tbody tr th:only-of-type {\n",
       "        vertical-align: middle;\n",
       "    }\n",
       "\n",
       "    .dataframe tbody tr th {\n",
       "        vertical-align: top;\n",
       "    }\n",
       "\n",
       "    .dataframe thead th {\n",
       "        text-align: right;\n",
       "    }\n",
       "</style>\n",
       "<table border=\"1\" class=\"dataframe\">\n",
       "  <thead>\n",
       "    <tr style=\"text-align: right;\">\n",
       "      <th></th>\n",
       "      <th>CDPHId</th>\n",
       "      <th>ProductName</th>\n",
       "      <th>CSFId</th>\n",
       "      <th>CompanyId</th>\n",
       "      <th>CompanyName</th>\n",
       "      <th>BrandName</th>\n",
       "      <th>PrimaryCategoryId</th>\n",
       "      <th>PrimaryCategory</th>\n",
       "      <th>SubCategoryId</th>\n",
       "      <th>SubCategory</th>\n",
       "      <th>...</th>\n",
       "      <th>CasNumber</th>\n",
       "      <th>ChemicalId</th>\n",
       "      <th>ChemicalName</th>\n",
       "      <th>InitialDateReported</th>\n",
       "      <th>MostRecentDateReported</th>\n",
       "      <th>DiscontinuedDate</th>\n",
       "      <th>ChemicalCreatedAt</th>\n",
       "      <th>ChemicalUpdatedAt</th>\n",
       "      <th>ChemicalDateRemoved</th>\n",
       "      <th>ChemicalCount</th>\n",
       "    </tr>\n",
       "    <tr>\n",
       "      <th>CSF</th>\n",
       "      <th></th>\n",
       "      <th></th>\n",
       "      <th></th>\n",
       "      <th></th>\n",
       "      <th></th>\n",
       "      <th></th>\n",
       "      <th></th>\n",
       "      <th></th>\n",
       "      <th></th>\n",
       "      <th></th>\n",
       "      <th></th>\n",
       "      <th></th>\n",
       "      <th></th>\n",
       "      <th></th>\n",
       "      <th></th>\n",
       "      <th></th>\n",
       "      <th></th>\n",
       "      <th></th>\n",
       "      <th></th>\n",
       "      <th></th>\n",
       "      <th></th>\n",
       "    </tr>\n",
       "  </thead>\n",
       "  <tbody>\n",
       "    <tr>\n",
       "      <th>Creamy Natural</th>\n",
       "      <td>1</td>\n",
       "      <td>1</td>\n",
       "      <td>1</td>\n",
       "      <td>1</td>\n",
       "      <td>1</td>\n",
       "      <td>1</td>\n",
       "      <td>1</td>\n",
       "      <td>1</td>\n",
       "      <td>1</td>\n",
       "      <td>1</td>\n",
       "      <td>...</td>\n",
       "      <td>1</td>\n",
       "      <td>1</td>\n",
       "      <td>1</td>\n",
       "      <td>1</td>\n",
       "      <td>1</td>\n",
       "      <td>0</td>\n",
       "      <td>1</td>\n",
       "      <td>1</td>\n",
       "      <td>0</td>\n",
       "      <td>1</td>\n",
       "    </tr>\n",
       "    <tr>\n",
       "      <th>00</th>\n",
       "      <td>1</td>\n",
       "      <td>1</td>\n",
       "      <td>1</td>\n",
       "      <td>1</td>\n",
       "      <td>1</td>\n",
       "      <td>1</td>\n",
       "      <td>1</td>\n",
       "      <td>1</td>\n",
       "      <td>1</td>\n",
       "      <td>1</td>\n",
       "      <td>...</td>\n",
       "      <td>1</td>\n",
       "      <td>1</td>\n",
       "      <td>1</td>\n",
       "      <td>1</td>\n",
       "      <td>1</td>\n",
       "      <td>0</td>\n",
       "      <td>1</td>\n",
       "      <td>1</td>\n",
       "      <td>0</td>\n",
       "      <td>1</td>\n",
       "    </tr>\n",
       "  </tbody>\n",
       "</table>\n",
       "<p>2 rows × 21 columns</p>\n",
       "</div>"
      ],
      "text/plain": [
       "                  CDPHId  ProductName  CSFId  CompanyId  CompanyName  \\\n",
       "CSF                                                                    \n",
       "  Creamy Natural       1            1      1          1            1   \n",
       " 00                    1            1      1          1            1   \n",
       "\n",
       "                  BrandName  PrimaryCategoryId  PrimaryCategory  \\\n",
       "CSF                                                               \n",
       "  Creamy Natural          1                  1                1   \n",
       " 00                       1                  1                1   \n",
       "\n",
       "                  SubCategoryId  SubCategory  ...  CasNumber  ChemicalId  \\\n",
       "CSF                                           ...                          \n",
       "  Creamy Natural              1            1  ...          1           1   \n",
       " 00                           1            1  ...          1           1   \n",
       "\n",
       "                  ChemicalName  InitialDateReported  MostRecentDateReported  \\\n",
       "CSF                                                                           \n",
       "  Creamy Natural             1                    1                       1   \n",
       " 00                          1                    1                       1   \n",
       "\n",
       "                  DiscontinuedDate  ChemicalCreatedAt  ChemicalUpdatedAt  \\\n",
       "CSF                                                                        \n",
       "  Creamy Natural                 0                  1                  1   \n",
       " 00                              0                  1                  1   \n",
       "\n",
       "                  ChemicalDateRemoved  ChemicalCount  \n",
       "CSF                                                   \n",
       "  Creamy Natural                    0              1  \n",
       " 00                                 0              1  \n",
       "\n",
       "[2 rows x 21 columns]"
      ]
     },
     "execution_count": 105,
     "metadata": {},
     "output_type": "execute_result"
    }
   ],
   "source": [
    "## display distinct elements in column CSF\n",
    "test_group = df.groupby(['CSF'])\n",
    "test_group.count().head(2)"
   ]
  },
  {
   "cell_type": "markdown",
   "id": "fb336431-6896-4fae-ac3b-4092021fc97b",
   "metadata": {},
   "source": [
    "#### CDPHId, CSFId, CSF, CompanyName"
   ]
  },
  {
   "cell_type": "code",
   "execution_count": 106,
   "id": "0b975071-b17e-4f41-92b5-9ba6d5f01f94",
   "metadata": {
    "tags": []
   },
   "outputs": [],
   "source": [
    "## new test df create with 5 columns ('CDPHId','ProductName','CSFId','CSF','CompanyName')\n",
    "## result imported as csv file\n",
    "new_df = df[['CDPHId','ProductName','CSF','CompanyName']]\n",
    "new_df.to_csv('test.csv', index = False)"
   ]
  },
  {
   "cell_type": "markdown",
   "id": "792cc5fd-ec66-4b2f-9f39-f48a28d432a1",
   "metadata": {
    "tags": []
   },
   "source": [
    "#### BrandName, PrimaryCategory, SubCategory, ChemicalName"
   ]
  },
  {
   "cell_type": "code",
   "execution_count": 107,
   "id": "619dbffc-a7e2-472f-85cf-8bcb4a4b55de",
   "metadata": {
    "tags": []
   },
   "outputs": [],
   "source": [
    "## processed BrandName, PrimaryCategory, SubCategory, ChemicalName\n",
    "df['BrandName'] = df['BrandName'].str.replace('[^a-zA-Z0-9]', ' ', regex=True)\n",
    "df['PrimaryCategory'] = df['PrimaryCategory'].str.replace('[^a-zA-Z0-9]', ' ', regex=True)\n",
    "df['SubCategory'] = df['SubCategory'].str.replace('[^a-zA-Z0-9]', ' ', regex=True)\n",
    "df['ChemicalName'] = df['ChemicalName'].str.replace('[^a-zA-Z0-9]', ' ', regex=True)"
   ]
  },
  {
   "cell_type": "code",
   "execution_count": 108,
   "id": "b451a735-0fc5-41f2-a208-d6c09ce73c0e",
   "metadata": {
    "tags": []
   },
   "outputs": [
    {
     "data": {
      "text/plain": [
       "array(['AVON', 'Glover s', 'OPI', ..., 'Joico Hydra Splash',\n",
       "       'Joico Lumishine', 'OASIS'], dtype=object)"
      ]
     },
     "execution_count": 108,
     "metadata": {},
     "output_type": "execute_result"
    }
   ],
   "source": [
    "# find unique records using unique method\n",
    "df['BrandName'].unique()"
   ]
  },
  {
   "cell_type": "code",
   "execution_count": 109,
   "id": "3cd01768-89af-4299-9cb6-729a613c4639",
   "metadata": {
    "tags": []
   },
   "outputs": [
    {
     "data": {
      "text/plain": [
       "2670"
      ]
     },
     "execution_count": 109,
     "metadata": {},
     "output_type": "execute_result"
    }
   ],
   "source": [
    "# find the count of unique records\n",
    "df['BrandName'].nunique()"
   ]
  },
  {
   "cell_type": "code",
   "execution_count": 110,
   "id": "e96a9600-aa8d-4fd2-865f-58aaa1ef41f8",
   "metadata": {
    "tags": []
   },
   "outputs": [],
   "source": [
    "# column list\n",
    "column_list = ['CDPHId','ProductName','CSF','CompanyName','BrandName','PrimaryCategory','SubCategory','ChemicalName']"
   ]
  },
  {
   "cell_type": "code",
   "execution_count": 111,
   "id": "9703b08a-1ddb-4724-8d44-c3ec0e4c13d1",
   "metadata": {
    "tags": []
   },
   "outputs": [],
   "source": [
    "## new csv with additional columns imported\n",
    "new_df = df[column_list]\n",
    "new_df.to_csv('test.csv', index = False)"
   ]
  },
  {
   "cell_type": "markdown",
   "id": "b6e9ab16-61d6-464d-809e-2f715e9ae4bc",
   "metadata": {},
   "source": [
    "#### CompanyId, PrimaryCategoryId, SubCategoryId"
   ]
  },
  {
   "cell_type": "code",
   "execution_count": 112,
   "id": "d204c4fc-a0b4-4595-b7e0-d5df3daa7a5b",
   "metadata": {
    "tags": []
   },
   "outputs": [
    {
     "data": {
      "text/plain": [
       "array([ 44,  18,  59,  74, 106,   6,  90,  12, 111,  32,  68,  82,   1],\n",
       "      dtype=int64)"
      ]
     },
     "execution_count": 112,
     "metadata": {},
     "output_type": "execute_result"
    }
   ],
   "source": [
    "# unique company ids\n",
    "# df['CompanyId'].unique()\n",
    "# df['SubCategoryId'].unique()\n",
    "df['PrimaryCategoryId'].unique()"
   ]
  },
  {
   "cell_type": "code",
   "execution_count": 113,
   "id": "811e6f73-4e77-44d9-a232-719b89e6b107",
   "metadata": {
    "tags": []
   },
   "outputs": [],
   "source": [
    "# column list with additional columns\n",
    "column_list = ['CDPHId','ProductName','CSF','CompanyName',\n",
    "               'BrandName','PrimaryCategory','SubCategory','ChemicalName',\n",
    "              'CompanyId','PrimaryCategoryId','SubCategoryId']"
   ]
  },
  {
   "cell_type": "code",
   "execution_count": 114,
   "id": "2b9b024d-57dc-4f8d-bd68-12624ff1c67d",
   "metadata": {
    "tags": []
   },
   "outputs": [],
   "source": [
    "## new csv with additional columns imported\n",
    "new_df = df[column_list]\n",
    "new_df.to_csv('test.csv', index = False)"
   ]
  },
  {
   "cell_type": "code",
   "execution_count": 115,
   "id": "cdf98cf5-ef69-401b-bbf5-5f05c177c2b6",
   "metadata": {
    "tags": []
   },
   "outputs": [
    {
     "data": {
      "text/plain": [
       "array(['06/17/2009', '07-01-2009', '07-09-2009', ..., '02-05-2020',\n",
       "       '02-07-2020', '02-10-2020'], dtype=object)"
      ]
     },
     "execution_count": 115,
     "metadata": {},
     "output_type": "execute_result"
    }
   ],
   "source": [
    "df['InitialDateReported'].unique()"
   ]
  },
  {
   "cell_type": "markdown",
   "id": "eaa83392-493e-46cc-98b5-37c5c074d715",
   "metadata": {
    "tags": []
   },
   "source": [
    "#### InitialDateReported"
   ]
  },
  {
   "cell_type": "code",
   "execution_count": 116,
   "id": "b7911d29-93d6-4dba-81cc-3f050454d4cd",
   "metadata": {
    "tags": []
   },
   "outputs": [],
   "source": [
    "# replace - in date with /\n",
    "df['InitialDateReported'] = df['InitialDateReported'].str.replace('-', '/', regex=True)"
   ]
  },
  {
   "cell_type": "code",
   "execution_count": 117,
   "id": "f836e6b4-6463-4dc9-8d01-4711aa4d0211",
   "metadata": {
    "tags": []
   },
   "outputs": [
    {
     "data": {
      "text/plain": [
       "array(['06/17/2009', '07/01/2009', '07/09/2009', ..., '02/05/2020',\n",
       "       '02/07/2020', '02/10/2020'], dtype=object)"
      ]
     },
     "execution_count": 117,
     "metadata": {},
     "output_type": "execute_result"
    }
   ],
   "source": [
    "df['InitialDateReported'].unique()"
   ]
  },
  {
   "cell_type": "code",
   "execution_count": 93,
   "id": "5845171f-40fc-429d-9632-c13628fb4d2a",
   "metadata": {
    "tags": []
   },
   "outputs": [],
   "source": [
    "# transform this date format (mm/dd/year) to format (yyyy/mm/dd)"
   ]
  },
  {
   "cell_type": "code",
   "execution_count": 129,
   "id": "dc2a9755-649e-4f4e-9008-3ad80dc682af",
   "metadata": {
    "tags": []
   },
   "outputs": [
    {
     "data": {
      "text/plain": [
       "0         2009-06-17\n",
       "1         2009-07-01\n",
       "2         2009-07-01\n",
       "3         2009-07-09\n",
       "4         2009-07-09\n",
       "             ...    \n",
       "112865    2020-02-10\n",
       "112866    2020-02-10\n",
       "112867    2020-02-10\n",
       "112868    2020-02-10\n",
       "112869    2020-02-10\n",
       "Name: InitialDateReported, Length: 112870, dtype: object"
      ]
     },
     "execution_count": 129,
     "metadata": {},
     "output_type": "execute_result"
    }
   ],
   "source": [
    "# (mm/dd/year)\n",
    "df['mm'] = df['InitialDateReported'].str.slice(0, 2)\n",
    "df['dd'] = df['InitialDateReported'].str.slice(3, 5)\n",
    "df['yyyy'] = df['InitialDateReported'].str.slice(6,10)\n",
    "\n",
    "# concat all the three columns for new date column in the format (yyyy/mm/dd)\n",
    "df['InitialDateReported'] = df['yyyy'].str.cat([df['mm'],df['dd']], sep = '-')\n",
    "df['InitialDateReported']"
   ]
  },
  {
   "cell_type": "code",
   "execution_count": 132,
   "id": "2748402c-da64-449d-a6d6-059664835750",
   "metadata": {
    "tags": []
   },
   "outputs": [],
   "source": [
    "# column list with additional columns\n",
    "column_list = ['CDPHId','ProductName','CSF','CompanyName',\n",
    "               'BrandName','PrimaryCategory','SubCategory','ChemicalName',\n",
    "              'CompanyId','PrimaryCategoryId','SubCategoryId','InitialDateReported']\n",
    "## new csv with additional columns (one date column added)\n",
    "new_df = df[column_list]\n",
    "new_df.to_csv('test.csv', index = False)"
   ]
  },
  {
   "cell_type": "markdown",
   "id": "98c3c7a4-a543-4a58-9dca-2ecd2dde9c41",
   "metadata": {},
   "source": [
    "#### MostRecentDateReported, DiscontinuedDate, ChemicalCreatedAt, ChemicalUpdatedAt, ChemicalDateRemoved"
   ]
  },
  {
   "cell_type": "code",
   "execution_count": 133,
   "id": "0c1e161e-c74b-4ae2-9177-489b538416cc",
   "metadata": {
    "tags": []
   },
   "outputs": [
    {
     "data": {
      "text/plain": [
       "0         2013-08-28\n",
       "1         2009-07-01\n",
       "2         2009-07-01\n",
       "3         2013-08-28\n",
       "4         2013-08-28\n",
       "             ...    \n",
       "112865    2020-02-10\n",
       "112866    2020-02-10\n",
       "112867    2020-02-10\n",
       "112868    2020-02-10\n",
       "112869    2020-02-10\n",
       "Name: MostRecentDateReported, Length: 112870, dtype: object"
      ]
     },
     "execution_count": 133,
     "metadata": {},
     "output_type": "execute_result"
    }
   ],
   "source": [
    "# transform this date format (mm/dd/year) to format (yyyy/mm/dd)\n",
    "# (mm/dd/year)\n",
    "# 'MostRecentDateReported'\n",
    "df['mm'] = df['MostRecentDateReported'].str.slice(0, 2)\n",
    "df['dd'] = df['MostRecentDateReported'].str.slice(3, 5)\n",
    "df['yyyy'] = df['MostRecentDateReported'].str.slice(6,10)\n",
    "\n",
    "# concat all the three columns for new date column in the format (yyyy/mm/dd)\n",
    "df['MostRecentDateReported'] = df['yyyy'].str.cat([df['mm'],df['dd']], sep = '-')\n",
    "df['MostRecentDateReported']"
   ]
  },
  {
   "cell_type": "code",
   "execution_count": 134,
   "id": "e68f204a-e6c0-4cb2-9ac7-33b8f87ae723",
   "metadata": {
    "tags": []
   },
   "outputs": [
    {
     "data": {
      "text/plain": [
       "0         2011-02-01\n",
       "1                NaN\n",
       "2                NaN\n",
       "3                NaN\n",
       "4         2011-02-01\n",
       "             ...    \n",
       "112865           NaN\n",
       "112866           NaN\n",
       "112867           NaN\n",
       "112868           NaN\n",
       "112869           NaN\n",
       "Name: DiscontinuedDate, Length: 112870, dtype: object"
      ]
     },
     "execution_count": 134,
     "metadata": {},
     "output_type": "execute_result"
    }
   ],
   "source": [
    "# DiscontinuedDate\n",
    "# transform this date format (mm/dd/year) to format (yyyy/mm/dd)\n",
    "# (mm/dd/year)\n",
    "df['mm'] = df['DiscontinuedDate'].str.slice(0, 2)\n",
    "df['dd'] = df['DiscontinuedDate'].str.slice(3, 5)\n",
    "df['yyyy'] = df['DiscontinuedDate'].str.slice(6,10)\n",
    "\n",
    "# concat all the three columns for new date column in the format (yyyy/mm/dd)\n",
    "df['DiscontinuedDate'] = df['yyyy'].str.cat([df['mm'],df['dd']], sep = '-')\n",
    "df['DiscontinuedDate']"
   ]
  },
  {
   "cell_type": "code",
   "execution_count": 135,
   "id": "126bcc24-6b10-4c58-aa4c-a6cdd68d1fd5",
   "metadata": {
    "tags": []
   },
   "outputs": [
    {
     "data": {
      "text/plain": [
       "0         2009-07-09\n",
       "1         2009-07-01\n",
       "2         2009-07-02\n",
       "3         2009-07-09\n",
       "4         2009-07-09\n",
       "             ...    \n",
       "112865    2020-02-10\n",
       "112866    2020-02-10\n",
       "112867    2020-02-10\n",
       "112868    2020-02-10\n",
       "112869    2020-02-10\n",
       "Name: ChemicalCreatedAt, Length: 112870, dtype: object"
      ]
     },
     "execution_count": 135,
     "metadata": {},
     "output_type": "execute_result"
    }
   ],
   "source": [
    "# ChemicalCreatedAt\n",
    "# transform this date format (mm/dd/year) to format (yyyy/mm/dd)\n",
    "# (mm/dd/year)\n",
    "df['mm'] = df['ChemicalCreatedAt'].str.slice(0, 2)\n",
    "df['dd'] = df['ChemicalCreatedAt'].str.slice(3, 5)\n",
    "df['yyyy'] = df['ChemicalCreatedAt'].str.slice(6,10)\n",
    "\n",
    "# concat all the three columns for new date column in the format (yyyy/mm/dd)\n",
    "df['ChemicalCreatedAt'] = df['yyyy'].str.cat([df['mm'],df['dd']], sep = '-')\n",
    "df['ChemicalCreatedAt']"
   ]
  },
  {
   "cell_type": "code",
   "execution_count": 136,
   "id": "9b5c9f49-0275-4643-8b47-674a1d537495",
   "metadata": {
    "tags": []
   },
   "outputs": [
    {
     "data": {
      "text/plain": [
       "0         2009-07-09\n",
       "1         2009-07-01\n",
       "2         2009-07-02\n",
       "3         2009-07-09\n",
       "4         2009-07-09\n",
       "             ...    \n",
       "112865    2020-02-10\n",
       "112866    2020-02-10\n",
       "112867    2020-02-10\n",
       "112868    2020-02-10\n",
       "112869    2020-02-10\n",
       "Name: ChemicalUpdatedAt, Length: 112870, dtype: object"
      ]
     },
     "execution_count": 136,
     "metadata": {},
     "output_type": "execute_result"
    }
   ],
   "source": [
    "# ChemicalUpdatedAt\n",
    "# transform this date format (mm/dd/year) to format (yyyy/mm/dd)\n",
    "# (mm/dd/year)\n",
    "df['mm'] = df['ChemicalUpdatedAt'].str.slice(0, 2)\n",
    "df['dd'] = df['ChemicalUpdatedAt'].str.slice(3, 5)\n",
    "df['yyyy'] = df['ChemicalUpdatedAt'].str.slice(6,10)\n",
    "\n",
    "# concat all the three columns for new date column in the format (yyyy/mm/dd)\n",
    "df['ChemicalUpdatedAt'] = df['yyyy'].str.cat([df['mm'],df['dd']], sep = '-')\n",
    "df['ChemicalUpdatedAt']"
   ]
  },
  {
   "cell_type": "code",
   "execution_count": 137,
   "id": "4114e41a-f3a3-4d9f-a898-9e2d57941830",
   "metadata": {
    "tags": []
   },
   "outputs": [
    {
     "data": {
      "text/plain": [
       "0         NaN\n",
       "1         NaN\n",
       "2         NaN\n",
       "3         NaN\n",
       "4         NaN\n",
       "         ... \n",
       "112865    NaN\n",
       "112866    NaN\n",
       "112867    NaN\n",
       "112868    NaN\n",
       "112869    NaN\n",
       "Name: ChemicalDateRemoved, Length: 112870, dtype: object"
      ]
     },
     "execution_count": 137,
     "metadata": {},
     "output_type": "execute_result"
    }
   ],
   "source": [
    "# ChemicalDateRemoved\n",
    "# transform this date format (mm/dd/year) to format (yyyy/mm/dd)\n",
    "# (mm/dd/year)\n",
    "df['mm'] = df['ChemicalDateRemoved'].str.slice(0, 2)\n",
    "df['dd'] = df['ChemicalDateRemoved'].str.slice(3, 5)\n",
    "df['yyyy'] = df['ChemicalDateRemoved'].str.slice(6,10)\n",
    "\n",
    "# concat all the three columns for new date column in the format (yyyy/mm/dd)\n",
    "df['ChemicalDateRemoved'] = df['yyyy'].str.cat([df['mm'],df['dd']], sep = '-')\n",
    "df['ChemicalDateRemoved']"
   ]
  },
  {
   "cell_type": "code",
   "execution_count": 138,
   "id": "61e8ca71-f030-4dd9-a7ef-2ab2e2f0be19",
   "metadata": {
    "tags": []
   },
   "outputs": [],
   "source": [
    "#### ChemicalCount"
   ]
  },
  {
   "cell_type": "code",
   "execution_count": 139,
   "id": "2a103924-56fa-4f69-818e-e171e038f437",
   "metadata": {
    "tags": []
   },
   "outputs": [
    {
     "data": {
      "text/plain": [
       "pandas.core.series.Series"
      ]
     },
     "execution_count": 139,
     "metadata": {},
     "output_type": "execute_result"
    }
   ],
   "source": [
    "type(df['ChemicalCount'])"
   ]
  },
  {
   "cell_type": "code",
   "execution_count": 140,
   "id": "c3932cb4-ffdc-438b-8cee-e1567779ce21",
   "metadata": {
    "tags": []
   },
   "outputs": [
    {
     "data": {
      "text/plain": [
       "0    1\n",
       "1    2\n",
       "2    2\n",
       "3    1\n",
       "4    1\n",
       "Name: ChemicalCount, dtype: int64"
      ]
     },
     "execution_count": 140,
     "metadata": {},
     "output_type": "execute_result"
    }
   ],
   "source": [
    "df['ChemicalCount'].head(5)"
   ]
  },
  {
   "cell_type": "code",
   "execution_count": 143,
   "id": "201bc5a1-9ba2-498e-ae37-95e5c56719ba",
   "metadata": {
    "tags": []
   },
   "outputs": [],
   "source": [
    "# column list with additional columns\n",
    "column_list = ['CDPHId','ProductName','CSF','CompanyName',\n",
    "               'BrandName','PrimaryCategory','SubCategory','ChemicalName',\n",
    "              'CompanyId','PrimaryCategoryId','SubCategoryId',\n",
    "              'InitialDateReported', 'MostRecentDateReported', \n",
    "               'DiscontinuedDate', 'ChemicalCreatedAt', 'ChemicalUpdatedAt', 'ChemicalDateRemoved',\n",
    "              'ChemicalCount']"
   ]
  },
  {
   "cell_type": "code",
   "execution_count": 145,
   "id": "2d497c65-24f8-4aec-b4ab-9c627d062a40",
   "metadata": {
    "tags": []
   },
   "outputs": [],
   "source": [
    "## new csv with additional columns (one date column added)\n",
    "transformed_df = df[column_list]\n",
    "transformed_df.to_csv('chemicals_cosmetics.csv', index = False)"
   ]
  },
  {
   "cell_type": "code",
   "execution_count": null,
   "id": "8828f07e-9739-42e9-83e5-3f82a207a011",
   "metadata": {},
   "outputs": [],
   "source": []
  }
 ],
 "metadata": {
  "kernelspec": {
   "display_name": "Python 3 (ipykernel)",
   "language": "python",
   "name": "python3"
  },
  "language_info": {
   "codemirror_mode": {
    "name": "ipython",
    "version": 3
   },
   "file_extension": ".py",
   "mimetype": "text/x-python",
   "name": "python",
   "nbconvert_exporter": "python",
   "pygments_lexer": "ipython3",
   "version": "3.11.4"
  }
 },
 "nbformat": 4,
 "nbformat_minor": 5
}
